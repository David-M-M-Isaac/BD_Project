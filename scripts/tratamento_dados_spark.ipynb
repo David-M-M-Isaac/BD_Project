{
 "cells": [
  {
   "cell_type": "code",
   "execution_count": 102,
   "id": "afa94fe5-fd61-4e6e-84a7-e3798bcd9dcc",
   "metadata": {},
   "outputs": [],
   "source": [
    "from pymongo import MongoClient\n",
    "from pyspark.sql import SparkSession\n",
    "import matplotlib.pyplot as plt\n",
    "from pyspark.sql.functions import col, array_contains\n"
   ]
  },
  {
   "cell_type": "code",
   "execution_count": 103,
   "id": "4136b4c8-0c54-4cfe-98ab-3c5362539b07",
   "metadata": {},
   "outputs": [
    {
     "name": "stdout",
     "output_type": "stream",
     "text": [
      "{'_id': ObjectId('676ebf9db2412e2d5055f480'), 'video_id': '3C66w5Z0ixs', 'title': 'I ASKED HER TO BE MY GIRLFRIEND...', 'publishedAt': '2020-08-11T19:20:14Z', 'channelId': 'UCvtRTOMP2TqYqu51xNrqAzg', 'channelTitle': 'Brawadis', 'categoryId': 22, 'trending_date': '2020-08-12T00:00:00Z', 'tags': ['brawadis', 'prank', 'basketball', 'skits', 'ghost', 'funny videos', 'vlog', 'vlogging', 'NBA', 'browadis', 'challenges', 'bmw i8', 'faze rug', 'faze rug brother', 'mama rug and papa rug'], 'view_count': 1514614, 'likes': 156908, 'dislikes': 5855, 'comment_count': 35313, 'thumbnail_link': 'https://i.ytimg.com/vi/3C66w5Z0ixs/default.jpg', 'comments_disabled': False, 'ratings_disabled': False, 'description': 'SUBSCRIBE to BRAWADIS ▶ http://bit.ly/SubscribeToBrawadis\\r\\rFOLLOW ME ON SOCIAL\\r▶ Twitter: https://twitter.com/Brawadis\\r▶ Instagram: https://www.instagram.com/brawadis/\\r▶ Snapchat: brawadis\\r\\rHi! I’m Brandon Awadis and I like to make dope vlogs, pranks, reactions, challenges and basketball videos. Don’t forget to subscribe and come be a part of the BrawadSquad!'}\n"
     ]
    }
   ],
   "source": [
    "# Connect to MongoDB\n",
    "client = MongoClient('mongodb://mongodb:27017/')\n",
    "db = client.Youtube_Database\n",
    "collection = db.youtube_data_us\n",
    "\n",
    "# Print the first document\n",
    "print(collection.find_one())\n",
    "\n",
    "# Close the connection\n",
    "client.close()"
   ]
  },
  {
   "cell_type": "code",
   "execution_count": 108,
   "id": "3a35f77c-737a-4957-af81-4ca1142a1419",
   "metadata": {},
   "outputs": [],
   "source": [
    "spark = SparkSession.builder \\\n",
    "    .appName(\"youtube_us\") \\\n",
    "    .config(\"spark.mongodb.input.uri\", \"mongodb://mongodb:27017/Youtube_Database\") \\\n",
    "    .config(\"spark.mongodb.output.uri\", \"mongodb://mongodb:27017/Youtube_Database\") \\\n",
    "    .config(\"spark.jars.packages\", \"org.mongodb.spark:mongo-spark-connector_2.12:3.0.1\") \\\n",
    "    .getOrCreate()\n"
   ]
  },
  {
   "cell_type": "code",
   "execution_count": 109,
   "id": "3f2f297e-e648-4f46-86f8-e6662cf4b0f9",
   "metadata": {
    "scrolled": true
   },
   "outputs": [],
   "source": [
    "df_us = spark.read.format(\"mongo\").option(\"uri\", \"mongodb://mongodb:27017/Youtube_Database.youtube_data_us\").load()\n",
    "df_br = spark.read.format(\"mongo\").option(\"uri\", \"mongodb://mongodb:27017/Youtube_Database.youtube_data_br\").load()\n",
    "df_ca = spark.read.format(\"mongo\").option(\"uri\", \"mongodb://mongodb:27017/Youtube_Database.youtube_data_ca\").load()\n",
    "df_de = spark.read.format(\"mongo\").option(\"uri\", \"mongodb://mongodb:27017/Youtube_Database.youtube_data_de\").load()\n",
    "df_fr = spark.read.format(\"mongo\").option(\"uri\", \"mongodb://mongodb:27017/Youtube_Database.youtube_data_fr\").load()\n",
    "df_gb = spark.read.format(\"mongo\").option(\"uri\", \"mongodb://mongodb:27017/Youtube_Database.youtube_data_gb\").load()\n",
    "df_in = spark.read.format(\"mongo\").option(\"uri\", \"mongodb://mongodb:27017/Youtube_Database.youtube_data_in\").load()\n",
    "df_jp = spark.read.format(\"mongo\").option(\"uri\", \"mongodb://mongodb:27017/Youtube_Database.youtube_data_jp\").load()\n",
    "df_kr = spark.read.format(\"mongo\").option(\"uri\", \"mongodb://mongodb:27017/Youtube_Database.youtube_data_kr\").load()\n",
    "df_mx = spark.read.format(\"mongo\").option(\"uri\", \"mongodb://mongodb:27017/Youtube_Database.youtube_data_mx\").load()\n",
    "df_ru = spark.read.format(\"mongo\").option(\"uri\", \"mongodb://mongodb:27017/Youtube_Database.youtube_data_ru\").load()"
   ]
  },
  {
   "cell_type": "code",
   "execution_count": 117,
   "id": "75baed65-abcb-4ada-b25a-d23f368b7c2d",
   "metadata": {},
   "outputs": [],
   "source": [
    "df_all = df_us.union(df_br).union(df_ca).union(df_de).union(df_fr).union(df_gb).union(df_in).union(df_jp).union(df_kr).union(df_mx).union(df_ru)\n"
   ]
  },
  {
   "cell_type": "code",
   "execution_count": 118,
   "id": "ab0e2f27-c33f-4f0f-926e-5514315e29ca",
   "metadata": {
    "scrolled": true
   },
   "outputs": [
    {
     "name": "stdout",
     "output_type": "stream",
     "text": [
      "root\n",
      " |-- _id: struct (nullable = true)\n",
      " |    |-- oid: string (nullable = true)\n",
      " |-- categoryId: integer (nullable = true)\n",
      " |-- channelId: string (nullable = true)\n",
      " |-- channelTitle: string (nullable = true)\n",
      " |-- comment_count: integer (nullable = true)\n",
      " |-- comments_disabled: boolean (nullable = true)\n",
      " |-- description: string (nullable = true)\n",
      " |-- dislikes: integer (nullable = true)\n",
      " |-- likes: integer (nullable = true)\n",
      " |-- publishedAt: string (nullable = true)\n",
      " |-- ratings_disabled: boolean (nullable = true)\n",
      " |-- tags: string (nullable = true)\n",
      " |-- thumbnail_link: string (nullable = true)\n",
      " |-- title: string (nullable = true)\n",
      " |-- trending_date: string (nullable = true)\n",
      " |-- video_id: string (nullable = true)\n",
      " |-- view_count: integer (nullable = true)\n",
      "\n"
     ]
    }
   ],
   "source": [
    "df_all.printSchema()"
   ]
  },
  {
   "cell_type": "code",
   "execution_count": 119,
   "id": "56afd623-d489-4d05-82f6-51bffb77543f",
   "metadata": {},
   "outputs": [
    {
     "name": "stdout",
     "output_type": "stream",
     "text": [
      "Número de linhas que contêm 'nvidia': 2568\n"
     ]
    }
   ],
   "source": [
    "filtered_df_nvidia = df_all.filter(\n",
    "    (col('description').contains('nvidia')) |\n",
    "    (col('title').contains('nvidia')) |\n",
    "    (col('tags').contains('nvidia')) |  \n",
    "    (col('channelTitle').contains('nvidia')) |\n",
    "    (col('thumbnail_link').contains('nvidia'))\n",
    ")\n",
    "\n",
    "num_rows = filtered_df_nvidia.count()\n",
    "print(f\"Número de linhas que contêm 'nvidia': {num_rows}\")"
   ]
  },
  {
   "cell_type": "code",
   "execution_count": 122,
   "id": "15c5e487-d460-42c4-a962-6dd9e3c6566b",
   "metadata": {},
   "outputs": [
    {
     "name": "stdout",
     "output_type": "stream",
     "text": [
      "Número de linhas que contêm 'ibm': 958\n"
     ]
    }
   ],
   "source": [
    "filtered_df_ibm = df_all.filter(\n",
    "    (col('description').contains('ibm')) |\n",
    "    (col('title').contains('ibm')) |\n",
    "    (col('tags').contains('ibm')) |  \n",
    "    (col('channelTitle').contains('ibm')) |\n",
    "    (col('thumbnail_link').contains('ibm'))\n",
    ")\n",
    "\n",
    "num_rows = filtered_df_ibm.count()\n",
    "print(f\"Número de linhas que contêm 'ibm': {num_rows}\")"
   ]
  },
  {
   "cell_type": "code",
   "execution_count": 123,
   "id": "d6e57570-524f-4996-a76a-702ccf607e29",
   "metadata": {},
   "outputs": [
    {
     "name": "stdout",
     "output_type": "stream",
     "text": [
      "Número de linhas que contêm 'dell': 958\n"
     ]
    }
   ],
   "source": [
    "filtered_df_dell = df_all.filter(\n",
    "    (col('description').contains('dell')) |\n",
    "    (col('title').contains('dell')) |\n",
    "    (col('tags').contains('dell')) |  \n",
    "    (col('channelTitle').contains('dell')) |\n",
    "    (col('thumbnail_link').contains('dell'))\n",
    ")\n",
    "\n",
    "num_rows = filtered_df_dell.count()\n",
    "print(f\"Número de linhas que contêm 'dell': {num_rows}\")"
   ]
  },
  {
   "cell_type": "code",
   "execution_count": 124,
   "id": "c6666794-680f-42eb-924f-d668e0b4612b",
   "metadata": {},
   "outputs": [
    {
     "name": "stdout",
     "output_type": "stream",
     "text": [
      "Número de linhas que contêm 'intel': 17326\n"
     ]
    }
   ],
   "source": [
    "filtered_df_intel = df_all.filter(\n",
    "    (col('description').contains('intel')) |\n",
    "    (col('title').contains('intel')) |\n",
    "    (col('tags').contains('intel')) |  \n",
    "    (col('channelTitle').contains('intel')) |\n",
    "    (col('thumbnail_link').contains('intel'))\n",
    ")\n",
    "\n",
    "num_rows = filtered_df_intel.count()\n",
    "print(f\"Número de linhas que contêm 'intel': {num_rows}\")"
   ]
  },
  {
   "cell_type": "code",
   "execution_count": 125,
   "id": "27dde616-d258-4181-80a4-929b716068aa",
   "metadata": {},
   "outputs": [
    {
     "name": "stdout",
     "output_type": "stream",
     "text": [
      "Número de linhas que contêm 'microsoft': 2958\n"
     ]
    }
   ],
   "source": [
    "filtered_df_microsoft = df_all.filter(\n",
    "    (col('description').contains('microsoft')) |\n",
    "    (col('title').contains('microsoft')) |\n",
    "    (col('tags').contains('microsoft')) |  \n",
    "    (col('channelTitle').contains('microsoft')) |\n",
    "    (col('thumbnail_link').contains('microsoft'))\n",
    ")\n",
    "\n",
    "num_rows = filtered_df_microsoft.count()\n",
    "print(f\"Número de linhas que contêm 'microsoft': {num_rows}\")"
   ]
  },
  {
   "cell_type": "code",
   "execution_count": 126,
   "id": "e283efc0-2071-4f63-915a-c4f498c73e5d",
   "metadata": {},
   "outputs": [
    {
     "name": "stdout",
     "output_type": "stream",
     "text": [
      "Número de linhas que contêm 'sony': 17574\n"
     ]
    }
   ],
   "source": [
    "filtered_df_sony = df_all.filter(\n",
    "    (col('description').contains('sony')) |\n",
    "    (col('title').contains('sony')) |\n",
    "    (col('tags').contains('sony')) |  \n",
    "    (col('channelTitle').contains('sony')) |\n",
    "    (col('thumbnail_link').contains('sony'))\n",
    ")\n",
    "\n",
    "num_rows = filtered_df_sony.count()\n",
    "print(f\"Número de linhas que contêm 'sony': {num_rows}\")"
   ]
  },
  {
   "cell_type": "code",
   "execution_count": null,
   "id": "638a4429-b782-4926-b1c5-548b782bc739",
   "metadata": {},
   "outputs": [],
   "source": []
  }
 ],
 "metadata": {
  "kernelspec": {
   "display_name": "Python 3 (ipykernel)",
   "language": "python",
   "name": "python3"
  },
  "language_info": {
   "codemirror_mode": {
    "name": "ipython",
    "version": 3
   },
   "file_extension": ".py",
   "mimetype": "text/x-python",
   "name": "python",
   "nbconvert_exporter": "python",
   "pygments_lexer": "ipython3",
   "version": "3.11.6"
  }
 },
 "nbformat": 4,
 "nbformat_minor": 5
}
