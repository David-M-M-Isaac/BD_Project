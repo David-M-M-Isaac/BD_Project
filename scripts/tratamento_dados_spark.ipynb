{
 "cells": [
  {
   "cell_type": "code",
   "execution_count": 38,
   "id": "afa94fe5-fd61-4e6e-84a7-e3798bcd9dcc",
   "metadata": {},
   "outputs": [],
   "source": [
    "from pymongo import MongoClient\n",
    "from pyspark.sql import SparkSession\n",
    "import matplotlib.pyplot as plt\n",
    "from pyspark.sql.functions import col, array_contains, lit, when, count, split\n",
    "from pyspark.sql.types import StructType, StructField, StringType, IntegerType\n",
    "from pyspark import SparkContext\n",
    "import matplotlib.pyplot as plt"
   ]
  },
  {
   "cell_type": "code",
   "execution_count": 2,
   "id": "4136b4c8-0c54-4cfe-98ab-3c5362539b07",
   "metadata": {},
   "outputs": [
    {
     "name": "stdout",
     "output_type": "stream",
     "text": [
      "{'_id': ObjectId('67704d0a369451acbe81243e'), 'video_id': '3C66w5Z0ixs', 'title': 'I ASKED HER TO BE MY GIRLFRIEND...', 'publishedAt': '2020-08-11T19:20:14Z', 'channelId': 'UCvtRTOMP2TqYqu51xNrqAzg', 'channelTitle': 'Brawadis', 'categoryId': 22, 'trending_date': '2020-08-12T00:00:00Z', 'tags': 'brawadis|prank|basketball|skits|ghost|funny videos|vlog|vlogging|NBA|browadis|challenges|bmw i8|faze rug|faze rug brother|mama rug and papa rug', 'view_count': 1514614, 'likes': 156908, 'dislikes': 5855, 'comment_count': 35313, 'thumbnail_link': 'https://i.ytimg.com/vi/3C66w5Z0ixs/default.jpg', 'comments_disabled': False, 'ratings_disabled': False, 'description': 'SUBSCRIBE to BRAWADIS ▶ http://bit.ly/SubscribeToBrawadis\\r\\rFOLLOW ME ON SOCIAL\\r▶ Twitter: https://twitter.com/Brawadis\\r▶ Instagram: https://www.instagram.com/brawadis/\\r▶ Snapchat: brawadis\\r\\rHi! I’m Brandon Awadis and I like to make dope vlogs, pranks, reactions, challenges and basketball videos. Don’t forget to subscribe and come be a part of the BrawadSquad!'}\n"
     ]
    }
   ],
   "source": [
    "# Connect to MongoDB\n",
    "client = MongoClient('mongodb://mongodb:27017/')\n",
    "db = client.Youtube_Database\n",
    "collection = db.youtube_data_us\n",
    "\n",
    "# Print the first document\n",
    "print(collection.find_one())\n",
    "\n",
    "# Close the connection\n",
    "client.close()"
   ]
  },
  {
   "cell_type": "markdown",
   "id": "511f4085-c3d3-4813-a613-ce30f1bdd4c2",
   "metadata": {},
   "source": [
    "## Spark"
   ]
  },
  {
   "cell_type": "code",
   "execution_count": 3,
   "id": "54b7cc4e-7cb2-49f1-a222-fa01af2f05ce",
   "metadata": {},
   "outputs": [],
   "source": [
    "spark_ = SparkSession.builder \\\n",
    "    .appName(\"company_database\") \\\n",
    "    .config(\"spark.mongodb.input.uri\", \"mongodb://mongodb:27017/Company_Database\") \\\n",
    "    .config(\"spark.mongodb.output.uri\", \"mongodb://mongodb:27017/Company_Database\") \\\n",
    "    .config(\"spark.mongodb.input.uri\", \"mongodb://mongodb:27017/Youtube_Database\") \\\n",
    "    .config(\"spark.mongodb.output.uri\", \"mongodb://mongodb:27017/Youtube_Database\") \\\n",
    "    .config(\"spark.jars.packages\", \"org.mongodb.spark:mongo-spark-connector_2.12:3.0.1\") \\\n",
    "    .config(\"spark.driver.memory\", \"6g\") \\\n",
    "    .config(\"spark.executor.memory\", \"6g\") \\\n",
    "    .getOrCreate()"
   ]
  },
  {
   "cell_type": "markdown",
   "id": "f748b910-3373-43eb-b72d-35851a070349",
   "metadata": {},
   "source": [
    "## Importanção dos dados de cada pais"
   ]
  },
  {
   "cell_type": "code",
   "execution_count": 4,
   "id": "3f2f297e-e648-4f46-86f8-e6662cf4b0f9",
   "metadata": {
    "scrolled": true
   },
   "outputs": [],
   "source": [
    "df_us = spark_.read.format(\"mongo\").option(\"uri\", \"mongodb://mongodb:27017/Youtube_Database.youtube_data_us\").load()\n",
    "df_br = spark_.read.format(\"mongo\").option(\"uri\", \"mongodb://mongodb:27017/Youtube_Database.youtube_data_br\").load()\n",
    "df_ca = spark_.read.format(\"mongo\").option(\"uri\", \"mongodb://mongodb:27017/Youtube_Database.youtube_data_ca\").load()\n",
    "df_fr = spark_.read.format(\"mongo\").option(\"uri\", \"mongodb://mongodb:27017/Youtube_Database.youtube_data_fr\").load()\n",
    "df_gb = spark_.read.format(\"mongo\").option(\"uri\", \"mongodb://mongodb:27017/Youtube_Database.youtube_data_gb\").load()\n",
    "df_in = spark_.read.format(\"mongo\").option(\"uri\", \"mongodb://mongodb:27017/Youtube_Database.youtube_data_in\").load()\n",
    "df_kr = spark_.read.format(\"mongo\").option(\"uri\", \"mongodb://mongodb:27017/Youtube_Database.youtube_data_kr\").load()\n",
    "df_mx = spark_.read.format(\"mongo\").option(\"uri\", \"mongodb://mongodb:27017/Youtube_Database.youtube_data_mx\").load()"
   ]
  },
  {
   "cell_type": "markdown",
   "id": "cc0a0473-3341-4fcc-946d-524fd5b40e83",
   "metadata": {},
   "source": [
    "## Importanção dos dados de empresa"
   ]
  },
  {
   "cell_type": "code",
   "execution_count": 6,
   "id": "787696bb-270e-4583-8ef2-ba28ac1abb61",
   "metadata": {},
   "outputs": [],
   "source": [
    "df_dell = spark_.read.format(\"mongo\").option(\"uri\", \"mongodb://mongodb:27017/Company_Database.dell_data\").load()\n",
    "df_ibm = spark_.read.format(\"mongo\").option(\"uri\", \"mongodb://mongodb:27017/Company_Database.ibm_data\").load()\n",
    "df_intel = spark_.read.format(\"mongo\").option(\"uri\", \"mongodb://mongodb:27017/Company_Database.intel_data\").load()\n",
    "df_microsoft = spark_.read.format(\"mongo\").option(\"uri\", \"mongodb://mongodb:27017/Company_Database.microsoft_data\").load()\n",
    "df_nvidia = spark_.read.format(\"mongo\").option(\"uri\", \"mongodb://mongodb:27017/Company_Database.nvidia_data\").load()\n",
    "df_sony = spark_.read.format(\"mongo\").option(\"uri\", \"mongodb://mongodb:27017/Company_Database.sony_data\").load()"
   ]
  },
  {
   "cell_type": "markdown",
   "id": "8df41c4b-cb71-4ef0-ab85-976066e13894",
   "metadata": {},
   "source": [
    "## Dicionario das empresas e seus nomes para posteriormente fazer a união dos dfs com a coluna company_name"
   ]
  },
  {
   "cell_type": "code",
   "execution_count": 7,
   "id": "e60da848-a173-433f-934e-2dbe6a8ad564",
   "metadata": {},
   "outputs": [],
   "source": [
    "dict_companies = {'companies': [\n",
    "                 {'dataframe':df_dell, 'name': 'dell'},\n",
    "                 {'dataframe':df_ibm, 'name': 'ibm'},\n",
    "                 {'dataframe':df_intel, 'name': 'intel'},\n",
    "                 {'dataframe':df_microsoft, 'name': 'microsoft'},\n",
    "                 {'dataframe':df_nvidia, 'name': 'nvidia'},\n",
    "                 {'dataframe':df_sony, 'name': 'sony'},  \n",
    "                ]\n",
    "            }"
   ]
  },
  {
   "cell_type": "code",
   "execution_count": 8,
   "id": "d5e283e8-0b8d-4fb5-848f-ccdbc63f78a1",
   "metadata": {},
   "outputs": [],
   "source": [
    "for company in dict_companies['companies']:\n",
    "    company[\"dataframe\"] = company[\"dataframe\"].withColumn(\"company\", lit(company[\"name\"]))"
   ]
  },
  {
   "cell_type": "code",
   "execution_count": 46,
   "id": "f869391f-92bf-4861-befe-2a2eec0c96ed",
   "metadata": {},
   "outputs": [],
   "source": [
    "df_companies = dict_companies['companies'][0]['dataframe'].union(dict_companies['companies'][1]['dataframe']).union(dict_companies['companies'][2]['dataframe']).union(dict_companies['companies'][3]['dataframe']).union(dict_companies['companies'][4]['dataframe']).union(dict_companies['companies'][5]['dataframe'])"
   ]
  },
  {
   "cell_type": "code",
   "execution_count": 27,
   "id": "9ba9e381-6f8a-44d3-929a-39ec4673c4c7",
   "metadata": {},
   "outputs": [],
   "source": [
    "# Filtrar os videos por país relacionados a uma empresa\n",
    "\n",
    "companies = ['nvidia', 'dell', 'ibm', 'intel', 'microsoft', 'sony']\n",
    "countries_df = [df_us, df_br, df_ca, df_fr, df_gb, df_in, df_kr, df_mx]\n",
    "countries = ['us', 'br', 'ca', 'fr', 'gb', 'in', 'kr', 'mx']\n",
    "\n",
    "yt = {company: {} for company in companies}\n",
    "\n",
    "def filter_df(df, company):\n",
    "    filtered_df = df.filter(\n",
    "        (col('description').contains(company)) |\n",
    "        (col('title').contains(company)) |\n",
    "        (col('tags').contains(company)) |\n",
    "        (col('channelTitle').contains(company))\n",
    "    )\n",
    "    return filtered_df.withColumn(\"company\", lit(company))\n",
    "\n",
    "for company in companies:\n",
    "    for country, country_df in zip(countries, countries_df):\n",
    "        filtered_data = filter_df(country_df, company)\n",
    "        yt[company].setdefault(country, []).append(filtered_data)"
   ]
  },
  {
   "cell_type": "markdown",
   "id": "dc81f3b2-6da2-4766-a2a3-fcec358db815",
   "metadata": {},
   "source": [
    "## União dos df de cada pais num só"
   ]
  },
  {
   "cell_type": "code",
   "execution_count": 28,
   "id": "5007434d-f7ce-4674-a6cf-4622a6711204",
   "metadata": {},
   "outputs": [],
   "source": [
    "from functools import reduce\n",
    "\n",
    "# Extract all DataFrames from the yt dictionary\n",
    "all_dfs = [\n",
    "    df \n",
    "    for company, country_data in yt.items() \n",
    "    for country, dfs in country_data.items() \n",
    "    for df in dfs\n",
    "]\n",
    "\n",
    "# Union all DataFrames using reduce\n",
    "if all_dfs:\n",
    "    df_yt = reduce(lambda df1, df2: df1.union(df2), all_dfs)\n",
    "else:\n",
    "    df_yt = None  # Handle case where there are no DataFrames\n",
    "\n",
    "# Result: `df_yt` is the union of all DataFrames"
   ]
  },
  {
   "cell_type": "code",
   "execution_count": 37,
   "id": "7e0c36fb-de8d-4a42-b242-9d24c8b9e615",
   "metadata": {},
   "outputs": [
    {
     "data": {
      "text/plain": [
       "39352"
      ]
     },
     "execution_count": 37,
     "metadata": {},
     "output_type": "execute_result"
    }
   ],
   "source": [
    "df_yt.count()"
   ]
  },
  {
   "cell_type": "markdown",
   "id": "e1f529e5-9092-44b9-8623-07943217a3a2",
   "metadata": {},
   "source": [
    "## Colunas existentes"
   ]
  },
  {
   "cell_type": "code",
   "execution_count": 39,
   "id": "ab0e2f27-c33f-4f0f-926e-5514315e29ca",
   "metadata": {
    "scrolled": true
   },
   "outputs": [
    {
     "name": "stdout",
     "output_type": "stream",
     "text": [
      "root\n",
      " |-- _id: struct (nullable = true)\n",
      " |    |-- oid: string (nullable = true)\n",
      " |-- categoryId: integer (nullable = true)\n",
      " |-- channelId: string (nullable = true)\n",
      " |-- channelTitle: string (nullable = true)\n",
      " |-- comment_count: integer (nullable = true)\n",
      " |-- comments_disabled: boolean (nullable = true)\n",
      " |-- description: string (nullable = true)\n",
      " |-- dislikes: integer (nullable = true)\n",
      " |-- likes: integer (nullable = true)\n",
      " |-- publishedAt: string (nullable = true)\n",
      " |-- ratings_disabled: boolean (nullable = true)\n",
      " |-- tags: string (nullable = true)\n",
      " |-- thumbnail_link: string (nullable = true)\n",
      " |-- title: string (nullable = true)\n",
      " |-- trending_date: string (nullable = true)\n",
      " |-- video_id: string (nullable = true)\n",
      " |-- view_count: integer (nullable = true)\n",
      " |-- company: string (nullable = false)\n",
      "\n"
     ]
    }
   ],
   "source": [
    "df_yt.printSchema()"
   ]
  },
  {
   "cell_type": "code",
   "execution_count": 10,
   "id": "8e9621b5-abe6-4bf1-b957-6102f6321ca2",
   "metadata": {},
   "outputs": [
    {
     "data": {
      "text/plain": [
       "57226"
      ]
     },
     "execution_count": 10,
     "metadata": {},
     "output_type": "execute_result"
    }
   ],
   "source": [
    "df_all_companies.count()"
   ]
  },
  {
   "cell_type": "markdown",
   "id": "6c77eb73-daba-4368-9171-52682234c3dc",
   "metadata": {},
   "source": [
    "## Quantidade de videos relacionados a x empresa"
   ]
  },
  {
   "cell_type": "markdown",
   "id": "efd17cae-4cdc-4073-870f-0e7be92bf6f4",
   "metadata": {},
   "source": [
    "## União dos videos de cada empresa"
   ]
  },
  {
   "cell_type": "code",
   "execution_count": null,
   "id": "638a4429-b782-4926-b1c5-548b782bc739",
   "metadata": {},
   "outputs": [],
   "source": [
    "df_yt_companies = df_us.union(filtered_df_nvidia).union(filtered_df_ibm).union(filtered_df_dell).union(filtered_df_intel).union(filtered_df_microsoft).union(filtered_df_sony)"
   ]
  },
  {
   "cell_type": "markdown",
   "id": "a48168cd-6fa2-41b2-b6fc-9a19539ff0ba",
   "metadata": {},
   "source": [
    "df_yt_companies - todos os videos das empresas a serem estudadas<br> \n",
    "df_all_companies - dados de todas as empreas a serem estudadas"
   ]
  },
  {
   "cell_type": "markdown",
   "id": "b1b701a6-d591-424d-b7a3-c3c24c1e7aa5",
   "metadata": {},
   "source": [
    "## Estudo dos nulos"
   ]
  },
  {
   "cell_type": "code",
   "execution_count": 42,
   "id": "5ac1dcb4-d372-4fed-a61d-8140b0f5cef9",
   "metadata": {},
   "outputs": [
    {
     "name": "stdout",
     "output_type": "stream",
     "text": [
      "+---+----------+---------+------------+-------------+-----------------+-----------+--------+-----+-----------+----------------+----+--------------+-----+-------------+--------+----------+-------+\n",
      "|_id|categoryId|channelId|channelTitle|comment_count|comments_disabled|description|dislikes|likes|publishedAt|ratings_disabled|tags|thumbnail_link|title|trending_date|video_id|view_count|company|\n",
      "+---+----------+---------+------------+-------------+-----------------+-----------+--------+-----+-----------+----------------+----+--------------+-----+-------------+--------+----------+-------+\n",
      "|  0|         0|        0|           0|            0|                0|          0|       0|    0|          0|               0|   0|             0|    0|            0|       0|         0|      0|\n",
      "+---+----------+---------+------------+-------------+-----------------+-----------+--------+-----+-----------+----------------+----+--------------+-----+-------------+--------+----------+-------+\n",
      "\n"
     ]
    }
   ],
   "source": [
    "# YT\n",
    "df_yt.select([count(when(col(c).isNull(), c)).alias(c) for c in df_yt.columns]).show()"
   ]
  },
  {
   "cell_type": "code",
   "execution_count": null,
   "id": "defb9081-2dc8-4bf9-bc98-e1dfb27ab0a9",
   "metadata": {},
   "outputs": [],
   "source": [
    "duplicates = df_yt.groupBy(df_yt.columns).count().filter(\"count > 1\")\n",
    "duplicates.show()"
   ]
  },
  {
   "cell_type": "markdown",
   "id": "7830b98c-237b-4871-bb0b-8a1739ca42ad",
   "metadata": {},
   "source": [
    "## Plots"
   ]
  },
  {
   "cell_type": "code",
   "execution_count": 47,
   "id": "9b859d62-8428-4581-8e9d-acbcda9d8700",
   "metadata": {},
   "outputs": [
    {
     "data": {
      "text/plain": [
       "['Adj Close',\n",
       " 'Close',\n",
       " 'Date',\n",
       " 'High',\n",
       " 'Low',\n",
       " 'Open',\n",
       " 'Volume',\n",
       " '_id',\n",
       " 'company_name']"
      ]
     },
     "execution_count": 47,
     "metadata": {},
     "output_type": "execute_result"
    }
   ],
   "source": [
    "df_companies.columns"
   ]
  },
  {
   "cell_type": "code",
   "execution_count": 49,
   "id": "50396484-8361-4bc8-81ba-107ba1774950",
   "metadata": {},
   "outputs": [
    {
     "data": {
      "text/plain": [
       "['_id',\n",
       " 'categoryId',\n",
       " 'channelId',\n",
       " 'channelTitle',\n",
       " 'comment_count',\n",
       " 'comments_disabled',\n",
       " 'description',\n",
       " 'dislikes',\n",
       " 'likes',\n",
       " 'publishedAt',\n",
       " 'ratings_disabled',\n",
       " 'tags',\n",
       " 'thumbnail_link',\n",
       " 'title',\n",
       " 'trending_date',\n",
       " 'video_id',\n",
       " 'view_count',\n",
       " 'company']"
      ]
     },
     "execution_count": 49,
     "metadata": {},
     "output_type": "execute_result"
    }
   ],
   "source": [
    "df_yt.columns"
   ]
  },
  {
   "cell_type": "code",
   "execution_count": 51,
   "id": "b3217c48-51af-4402-92f9-3961717e2710",
   "metadata": {},
   "outputs": [
    {
     "data": {
      "image/png": "[encoded data removed]",
      "text/plain": [
       "<Figure size 1200x600 with 1 Axes>"
      ]
     },
     "metadata": {},
     "output_type": "display_data"
    }
   ],
   "source": [
    "import matplotlib.pyplot as plt\n",
    "from pyspark.sql.functions import col, sum as spark_sum\n",
    "\n",
    "# Aggregate video engagement metrics\n",
    "df_yt_agg = df_yt.groupBy(\"company\").agg(\n",
    "    spark_sum(\"likes\").alias(\"total_likes\"),\n",
    "    spark_sum(\"view_count\").alias(\"total_views\")\n",
    ")\n",
    "\n",
    "# Join aggregated engagement metrics with stock data\n",
    "df_combined = df_companies.join(\n",
    "    df_yt_agg,\n",
    "    df_companies[\"company_name\"] == df_yt_agg[\"company\"],\n",
    "    how=\"inner\"\n",
    ").select(\"Date\", \"Adj Close\", \"company_name\", \"total_likes\", \"total_views\")\n",
    "\n",
    "# Collect data for plotting\n",
    "plot_data = df_combined.toPandas()\n",
    "\n",
    "# Plot Stock Price vs. Total Likes\n",
    "plt.figure(figsize=(12, 6))\n",
    "plt.plot(plot_data[\"Date\"], plot_data[\"Adj Close\"], label=\"Stock Price (Adj Close)\", color=\"blue\")\n",
    "plt.scatter(plot_data[\"Date\"], plot_data[\"total_likes\"], label=\"Total Likes\", color=\"orange\", alpha=0.7)\n",
    "plt.title(\"Stock Price vs. Total Likes\")\n",
    "plt.xlabel(\"Date\")\n",
    "plt.ylabel(\"Value\")\n",
    "plt.legend()\n",
    "plt.xticks(rotation=45)\n",
    "plt.tight_layout()\n",
    "plt.show()\n"
   ]
  },
  {
   "cell_type": "code",
   "execution_count": null,
   "id": "a2432b97-72fc-4fde-b7f9-c1aec072b7f3",
   "metadata": {},
   "outputs": [],
   "source": []
  }
 ],
 "metadata": {
  "kernelspec": {
   "display_name": "Python 3 (ipykernel)",
   "language": "python",
   "name": "python3"
  },
  "language_info": {
   "codemirror_mode": {
    "name": "ipython",
    "version": 3
   },
   "file_extension": ".py",
   "mimetype": "text/x-python",
   "name": "python",
   "nbconvert_exporter": "python",
   "pygments_lexer": "ipython3",
   "version": "3.11.6"
  }
 },
 "nbformat": 4,
 "nbformat_minor": 5
}
