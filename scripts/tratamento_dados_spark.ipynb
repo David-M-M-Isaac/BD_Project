{
 "cells": [
  {
   "cell_type": "code",
   "execution_count": 2,
   "id": "afa94fe5-fd61-4e6e-84a7-e3798bcd9dcc",
   "metadata": {},
   "outputs": [],
   "source": [
    "from pymongo import MongoClient\n",
    "from pyspark.sql import SparkSession\n",
    "import matplotlib.pyplot as plt\n",
    "from pyspark.sql.functions import col, array_contains, lit\n",
    "from pyspark.sql.types import StructType, StructField, StringType, IntegerType"
   ]
  },
  {
   "cell_type": "code",
   "execution_count": 3,
   "id": "4136b4c8-0c54-4cfe-98ab-3c5362539b07",
   "metadata": {},
   "outputs": [
    {
     "name": "stdout",
     "output_type": "stream",
     "text": [
      "{'_id': ObjectId('676ebf9db2412e2d5055f480'), 'video_id': '3C66w5Z0ixs', 'title': 'I ASKED HER TO BE MY GIRLFRIEND...', 'publishedAt': '2020-08-11T19:20:14Z', 'channelId': 'UCvtRTOMP2TqYqu51xNrqAzg', 'channelTitle': 'Brawadis', 'categoryId': 22, 'trending_date': '2020-08-12T00:00:00Z', 'tags': ['brawadis', 'prank', 'basketball', 'skits', 'ghost', 'funny videos', 'vlog', 'vlogging', 'NBA', 'browadis', 'challenges', 'bmw i8', 'faze rug', 'faze rug brother', 'mama rug and papa rug'], 'view_count': 1514614, 'likes': 156908, 'dislikes': 5855, 'comment_count': 35313, 'thumbnail_link': 'https://i.ytimg.com/vi/3C66w5Z0ixs/default.jpg', 'comments_disabled': False, 'ratings_disabled': False, 'description': 'SUBSCRIBE to BRAWADIS ▶ http://bit.ly/SubscribeToBrawadis\\r\\rFOLLOW ME ON SOCIAL\\r▶ Twitter: https://twitter.com/Brawadis\\r▶ Instagram: https://www.instagram.com/brawadis/\\r▶ Snapchat: brawadis\\r\\rHi! I’m Brandon Awadis and I like to make dope vlogs, pranks, reactions, challenges and basketball videos. Don’t forget to subscribe and come be a part of the BrawadSquad!'}\n"
     ]
    }
   ],
   "source": [
    "# Connect to MongoDB\n",
    "client = MongoClient('mongodb://mongodb:27017/')\n",
    "db = client.Youtube_Database\n",
    "collection = db.youtube_data_us\n",
    "\n",
    "# Print the first document\n",
    "print(collection.find_one())\n",
    "\n",
    "# Close the connection\n",
    "client.close()"
   ]
  },
  {
   "cell_type": "markdown",
   "id": "511f4085-c3d3-4813-a613-ce30f1bdd4c2",
   "metadata": {},
   "source": [
    "## Spark das empresas"
   ]
  },
  {
   "cell_type": "code",
   "execution_count": 4,
   "id": "54b7cc4e-7cb2-49f1-a222-fa01af2f05ce",
   "metadata": {},
   "outputs": [],
   "source": [
    "spark_company = SparkSession.builder \\\n",
    "    .appName(\"company_database\") \\\n",
    "    .config(\"spark.mongodb.input.uri\", \"mongodb://mongodb:27017/Company_Database\") \\\n",
    "    .config(\"spark.mongodb.output.uri\", \"mongodb://mongodb:27017/Company_Database\") \\\n",
    "    .config(\"spark.jars.packages\", \"org.mongodb.spark:mongo-spark-connector_2.12:3.0.1\") \\\n",
    "    .getOrCreate()"
   ]
  },
  {
   "cell_type": "markdown",
   "id": "c73ab65c-3320-41a7-8692-3397bee786bc",
   "metadata": {},
   "source": [
    "## Spark dos paises youtube"
   ]
  },
  {
   "cell_type": "code",
   "execution_count": 5,
   "id": "3a35f77c-737a-4957-af81-4ca1142a1419",
   "metadata": {},
   "outputs": [],
   "source": [
    "spark_yt = SparkSession.builder \\\n",
    "    .appName(\"youtube_us\") \\\n",
    "    .config(\"spark.mongodb.input.uri\", \"mongodb://mongodb:27017/Youtube_Database\") \\\n",
    "    .config(\"spark.mongodb.output.uri\", \"mongodb://mongodb:27017/Youtube_Database\") \\\n",
    "    .config(\"spark.jars.packages\", \"org.mongodb.spark:mongo-spark-connector_2.12:3.0.1\") \\\n",
    "    .getOrCreate()"
   ]
  },
  {
   "cell_type": "markdown",
   "id": "f748b910-3373-43eb-b72d-35851a070349",
   "metadata": {},
   "source": [
    "## Importanção dos dados de cada pais"
   ]
  },
  {
   "cell_type": "code",
   "execution_count": 6,
   "id": "3f2f297e-e648-4f46-86f8-e6662cf4b0f9",
   "metadata": {
    "scrolled": true
   },
   "outputs": [],
   "source": [
    "df_us = spark_yt.read.format(\"mongo\").option(\"uri\", \"mongodb://mongodb:27017/Youtube_Database.youtube_data_us\").load()\n",
    "df_br = spark_yt.read.format(\"mongo\").option(\"uri\", \"mongodb://mongodb:27017/Youtube_Database.youtube_data_br\").load()\n",
    "df_ca = spark_yt.read.format(\"mongo\").option(\"uri\", \"mongodb://mongodb:27017/Youtube_Database.youtube_data_ca\").load()\n",
    "df_de = spark_yt.read.format(\"mongo\").option(\"uri\", \"mongodb://mongodb:27017/Youtube_Database.youtube_data_de\").load()\n",
    "df_fr = spark_yt.read.format(\"mongo\").option(\"uri\", \"mongodb://mongodb:27017/Youtube_Database.youtube_data_fr\").load()\n",
    "df_gb = spark_yt.read.format(\"mongo\").option(\"uri\", \"mongodb://mongodb:27017/Youtube_Database.youtube_data_gb\").load()\n",
    "df_in = spark_yt.read.format(\"mongo\").option(\"uri\", \"mongodb://mongodb:27017/Youtube_Database.youtube_data_in\").load()\n",
    "df_jp = spark_yt.read.format(\"mongo\").option(\"uri\", \"mongodb://mongodb:27017/Youtube_Database.youtube_data_jp\").load()\n",
    "df_kr = spark_yt.read.format(\"mongo\").option(\"uri\", \"mongodb://mongodb:27017/Youtube_Database.youtube_data_kr\").load()\n",
    "df_mx = spark_yt.read.format(\"mongo\").option(\"uri\", \"mongodb://mongodb:27017/Youtube_Database.youtube_data_mx\").load()\n",
    "df_ru = spark_yt.read.format(\"mongo\").option(\"uri\", \"mongodb://mongodb:27017/Youtube_Database.youtube_data_ru\").load()"
   ]
  },
  {
   "cell_type": "markdown",
   "id": "cc0a0473-3341-4fcc-946d-524fd5b40e83",
   "metadata": {},
   "source": [
    "## Importanção dos dados de empresa"
   ]
  },
  {
   "cell_type": "code",
   "execution_count": 7,
   "id": "787696bb-270e-4583-8ef2-ba28ac1abb61",
   "metadata": {},
   "outputs": [],
   "source": [
    "df_dell = spark_yt.read.format(\"mongo\").option(\"uri\", \"mongodb://mongodb:27017/Company_Database.dell_data\").load()\n",
    "df_ibm = spark_yt.read.format(\"mongo\").option(\"uri\", \"mongodb://mongodb:27017/Company_Database.ibm_data\").load()\n",
    "df_intel = spark_yt.read.format(\"mongo\").option(\"uri\", \"mongodb://mongodb:27017/Company_Database.intel_data\").load()\n",
    "df_microsoft = spark_yt.read.format(\"mongo\").option(\"uri\", \"mongodb://mongodb:27017/Company_Database.microsoft_data\").load()\n",
    "df_nvidia = spark_yt.read.format(\"mongo\").option(\"uri\", \"mongodb://mongodb:27017/Company_Database.nvidia_data\").load()\n",
    "df_sony = spark_yt.read.format(\"mongo\").option(\"uri\", \"mongodb://mongodb:27017/Company_Database.sony_data\").load()"
   ]
  },
  {
   "cell_type": "markdown",
   "id": "8df41c4b-cb71-4ef0-ab85-976066e13894",
   "metadata": {},
   "source": [
    "## Dicionario das empresas e seus nomes para posteriormente fazer a união dos dfs com a coluna company_name"
   ]
  },
  {
   "cell_type": "code",
   "execution_count": 8,
   "id": "e60da848-a173-433f-934e-2dbe6a8ad564",
   "metadata": {},
   "outputs": [],
   "source": [
    "dict_companies = {'companies': [\n",
    "                 {'dataframe':df_dell, 'name': 'dell'},\n",
    "                 {'dataframe':df_ibm, 'name': 'ibm'},\n",
    "                 {'dataframe':df_intel, 'name': 'intel'},\n",
    "                 {'dataframe':df_microsoft, 'name': 'microsoft'},\n",
    "                 {'dataframe':df_nvidia, 'name': 'nvidia'},\n",
    "                 {'dataframe':df_sony, 'name': 'sony'},  \n",
    "                ]\n",
    "            }"
   ]
  },
  {
   "cell_type": "code",
   "execution_count": 9,
   "id": "d5e283e8-0b8d-4fb5-848f-ccdbc63f78a1",
   "metadata": {},
   "outputs": [],
   "source": [
    "for company in dict_companies['companies']:\n",
    "    company[\"dataframe\"] = company[\"dataframe\"].withColumn(\"company_name\", lit(company[\"name\"]))"
   ]
  },
  {
   "cell_type": "code",
   "execution_count": 12,
   "id": "f869391f-92bf-4861-befe-2a2eec0c96ed",
   "metadata": {},
   "outputs": [],
   "source": [
    "df_all_companies = dict_companies['companies'][0]['dataframe'].union(dict_companies['companies'][1]['dataframe']).union(dict_companies['companies'][2]['dataframe']).union(dict_companies['companies'][3]['dataframe']).union(dict_companies['companies'][4]['dataframe']).union(dict_companies['companies'][5]['dataframe'])"
   ]
  },
  {
   "cell_type": "code",
   "execution_count": 13,
   "id": "674e7410-b68b-4b4e-bdd3-44a5ea698ad5",
   "metadata": {},
   "outputs": [],
   "source": [
    "#df_all_companies.show()"
   ]
  },
  {
   "cell_type": "code",
   "execution_count": 14,
   "id": "6c8feb11-23f0-486e-ae82-29471dc90649",
   "metadata": {},
   "outputs": [],
   "source": [
    "#df_all_companies.orderBy(col(\"company_name\").desc()).show()"
   ]
  },
  {
   "cell_type": "markdown",
   "id": "dc81f3b2-6da2-4766-a2a3-fcec358db815",
   "metadata": {},
   "source": [
    "## União dos df de cada pais num só"
   ]
  },
  {
   "cell_type": "code",
   "execution_count": 15,
   "id": "75baed65-abcb-4ada-b25a-d23f368b7c2d",
   "metadata": {},
   "outputs": [],
   "source": [
    "df_yt = df_us.union(df_br).union(df_ca).union(df_de).union(df_fr).union(df_gb).union(df_in).union(df_jp).union(df_kr).union(df_mx).union(df_ru)"
   ]
  },
  {
   "cell_type": "markdown",
   "id": "e1f529e5-9092-44b9-8623-07943217a3a2",
   "metadata": {},
   "source": [
    "## Colunas existentes"
   ]
  },
  {
   "cell_type": "code",
   "execution_count": 16,
   "id": "ab0e2f27-c33f-4f0f-926e-5514315e29ca",
   "metadata": {
    "scrolled": true
   },
   "outputs": [
    {
     "name": "stdout",
     "output_type": "stream",
     "text": [
      "root\n",
      " |-- _id: struct (nullable = true)\n",
      " |    |-- oid: string (nullable = true)\n",
      " |-- categoryId: integer (nullable = true)\n",
      " |-- channelId: string (nullable = true)\n",
      " |-- channelTitle: string (nullable = true)\n",
      " |-- comment_count: integer (nullable = true)\n",
      " |-- comments_disabled: boolean (nullable = true)\n",
      " |-- description: string (nullable = true)\n",
      " |-- dislikes: integer (nullable = true)\n",
      " |-- likes: integer (nullable = true)\n",
      " |-- publishedAt: string (nullable = true)\n",
      " |-- ratings_disabled: boolean (nullable = true)\n",
      " |-- tags: string (nullable = true)\n",
      " |-- thumbnail_link: string (nullable = true)\n",
      " |-- title: string (nullable = true)\n",
      " |-- trending_date: string (nullable = true)\n",
      " |-- video_id: string (nullable = true)\n",
      " |-- view_count: integer (nullable = true)\n",
      "\n"
     ]
    }
   ],
   "source": [
    "df_yt.printSchema()"
   ]
  },
  {
   "cell_type": "code",
   "execution_count": 17,
   "id": "43626b42-dc81-425a-b9a5-9e61749d268f",
   "metadata": {},
   "outputs": [
    {
     "name": "stdout",
     "output_type": "stream",
     "text": [
      "root\n",
      " |-- Adj Close: double (nullable = true)\n",
      " |-- Close: double (nullable = true)\n",
      " |-- Date: string (nullable = true)\n",
      " |-- High: double (nullable = true)\n",
      " |-- Low: double (nullable = true)\n",
      " |-- Open: double (nullable = true)\n",
      " |-- Volume: integer (nullable = true)\n",
      " |-- _id: struct (nullable = true)\n",
      " |    |-- oid: string (nullable = true)\n",
      " |-- company_name: string (nullable = false)\n",
      "\n"
     ]
    }
   ],
   "source": [
    "df_all_companies.printSchema()"
   ]
  },
  {
   "cell_type": "markdown",
   "id": "6c77eb73-daba-4368-9171-52682234c3dc",
   "metadata": {},
   "source": [
    "## Quantidade de videos relacionados a x empresa"
   ]
  },
  {
   "cell_type": "code",
   "execution_count": 18,
   "id": "56afd623-d489-4d05-82f6-51bffb77543f",
   "metadata": {},
   "outputs": [
    {
     "name": "stdout",
     "output_type": "stream",
     "text": [
      "Número de linhas que contêm 'nvidia': 2568\n"
     ]
    }
   ],
   "source": [
    "filtered_df_nvidia = df_yt.filter(\n",
    "    (col('description').contains('nvidia')) |\n",
    "    (col('title').contains('nvidia')) |\n",
    "    (col('tags').contains('nvidia')) |  \n",
    "    (col('channelTitle').contains('nvidia')) |\n",
    "    (col('thumbnail_link').contains('nvidia'))\n",
    ")\n",
    "\n",
    "num_rows = filtered_df_nvidia.count()\n",
    "print(f\"Número de linhas que contêm 'nvidia': {num_rows}\")"
   ]
  },
  {
   "cell_type": "code",
   "execution_count": 19,
   "id": "15c5e487-d460-42c4-a962-6dd9e3c6566b",
   "metadata": {},
   "outputs": [
    {
     "name": "stdout",
     "output_type": "stream",
     "text": [
      "Número de linhas que contêm 'ibm': 958\n"
     ]
    }
   ],
   "source": [
    "filtered_df_ibm = df_yt.filter(\n",
    "    (col('description').contains('ibm')) |\n",
    "    (col('title').contains('ibm')) |\n",
    "    (col('tags').contains('ibm')) |  \n",
    "    (col('channelTitle').contains('ibm')) |\n",
    "    (col('thumbnail_link').contains('ibm'))\n",
    ")\n",
    "\n",
    "num_rows = filtered_df_ibm.count()\n",
    "print(f\"Número de linhas que contêm 'ibm': {num_rows}\")"
   ]
  },
  {
   "cell_type": "code",
   "execution_count": 20,
   "id": "d6e57570-524f-4996-a76a-702ccf607e29",
   "metadata": {},
   "outputs": [
    {
     "name": "stdout",
     "output_type": "stream",
     "text": [
      "Número de linhas que contêm 'dell': 17685\n"
     ]
    }
   ],
   "source": [
    "filtered_df_dell = df_yt.filter(\n",
    "    (col('description').contains('dell')) |\n",
    "    (col('title').contains('dell')) |\n",
    "    (col('tags').contains('dell')) |  \n",
    "    (col('channelTitle').contains('dell')) |\n",
    "    (col('thumbnail_link').contains('dell'))\n",
    ")\n",
    "\n",
    "num_rows = filtered_df_dell.count()\n",
    "print(f\"Número de linhas que contêm 'dell': {num_rows}\")"
   ]
  },
  {
   "cell_type": "code",
   "execution_count": 21,
   "id": "c6666794-680f-42eb-924f-d668e0b4612b",
   "metadata": {},
   "outputs": [
    {
     "name": "stdout",
     "output_type": "stream",
     "text": [
      "Número de linhas que contêm 'intel': 17326\n"
     ]
    }
   ],
   "source": [
    "filtered_df_intel = df_yt.filter(\n",
    "    (col('description').contains('intel')) |\n",
    "    (col('title').contains('intel')) |\n",
    "    (col('tags').contains('intel')) |  \n",
    "    (col('channelTitle').contains('intel')) |\n",
    "    (col('thumbnail_link').contains('intel'))\n",
    ")\n",
    "\n",
    "num_rows = filtered_df_intel.count()\n",
    "print(f\"Número de linhas que contêm 'intel': {num_rows}\")"
   ]
  },
  {
   "cell_type": "code",
   "execution_count": 22,
   "id": "27dde616-d258-4181-80a4-929b716068aa",
   "metadata": {},
   "outputs": [
    {
     "name": "stdout",
     "output_type": "stream",
     "text": [
      "Número de linhas que contêm 'microsoft': 2958\n"
     ]
    }
   ],
   "source": [
    "filtered_df_microsoft = df_yt.filter(\n",
    "    (col('description').contains('microsoft')) |\n",
    "    (col('title').contains('microsoft')) |\n",
    "    (col('tags').contains('microsoft')) |  \n",
    "    (col('channelTitle').contains('microsoft')) |\n",
    "    (col('thumbnail_link').contains('microsoft'))\n",
    ")\n",
    "\n",
    "num_rows = filtered_df_microsoft.count()\n",
    "print(f\"Número de linhas que contêm 'microsoft': {num_rows}\")"
   ]
  },
  {
   "cell_type": "code",
   "execution_count": null,
   "id": "e283efc0-2071-4f63-915a-c4f498c73e5d",
   "metadata": {},
   "outputs": [],
   "source": [
    "filtered_df_sony = df_yt.filter(\n",
    "    (col('description').contains('sony')) |\n",
    "    (col('title').contains('sony')) |\n",
    "    (col('tags').contains('sony')) |  \n",
    "    (col('channelTitle').contains('sony')) |\n",
    "    (col('thumbnail_link').contains('sony'))\n",
    ")\n",
    "\n",
    "num_rows = filtered_df_sony.count()\n",
    "print(f\"Número de linhas que contêm 'sony': {num_rows}\")"
   ]
  },
  {
   "cell_type": "markdown",
   "id": "efd17cae-4cdc-4073-870f-0e7be92bf6f4",
   "metadata": {},
   "source": [
    "## União dos videos de cada empresa"
   ]
  },
  {
   "cell_type": "code",
   "execution_count": null,
   "id": "638a4429-b782-4926-b1c5-548b782bc739",
   "metadata": {},
   "outputs": [],
   "source": [
    "df_yt_companies = df_us.union(filtered_df_nvidia).union(filtered_df_ibm).union(filtered_df_dell).union(filtered_df_intel).union(filtered_df_microsoft).union(filtered_df_sony)"
   ]
  },
  {
   "cell_type": "markdown",
   "id": "a48168cd-6fa2-41b2-b6fc-9a19539ff0ba",
   "metadata": {},
   "source": [
    "df_yt_companies - todos os videos das empresas a serem estudadas<br> \n",
    "df_all_companies - dados de todas as empreas a serem estudadas"
   ]
  },
  {
   "cell_type": "markdown",
   "id": "b1b701a6-d591-424d-b7a3-c3c24c1e7aa5",
   "metadata": {},
   "source": [
    "## Estudo dos nulos"
   ]
  },
  {
   "cell_type": "code",
   "execution_count": null,
   "id": "5ac1dcb4-d372-4fed-a61d-8140b0f5cef9",
   "metadata": {},
   "outputs": [],
   "source": [
    "type(df_yt_companies.na)"
   ]
  },
  {
   "cell_type": "code",
   "execution_count": null,
   "id": "1baaf013-b821-4d61-bc66-e7719614849c",
   "metadata": {},
   "outputs": [],
   "source": [
    "df_yt_companies.na"
   ]
  },
  {
   "cell_type": "code",
   "execution_count": null,
   "id": "6297af0f-03e8-4200-833f-a00d2fb5e8a2",
   "metadata": {},
   "outputs": [],
   "source": []
  }
 ],
 "metadata": {
  "kernelspec": {
   "display_name": "Python 3 (ipykernel)",
   "language": "python",
   "name": "python3"
  },
  "language_info": {
   "codemirror_mode": {
    "name": "ipython",
    "version": 3
   },
   "file_extension": ".py",
   "mimetype": "text/x-python",
   "name": "python",
   "nbconvert_exporter": "python",
   "pygments_lexer": "ipython3",
   "version": "3.11.6"
  }
 },
 "nbformat": 4,
 "nbformat_minor": 5
}
