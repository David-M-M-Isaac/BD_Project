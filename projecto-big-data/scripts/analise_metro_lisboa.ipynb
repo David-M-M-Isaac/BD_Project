{
 "cells": [
  {
   "cell_type": "code",
   "execution_count": null,
   "metadata": {},
   "outputs": [],
   "source": [
    "from pymongo import MongoClient\n",
    "\n",
    "# Connect to MongoDB\n",
    "client = MongoClient('mongodb://mongodb:27017/')\n",
    "db = client.metro_lisboa\n",
    "collection = db.estacoes\n",
    "\n",
    "# Print the first document\n",
    "print(collection.find_one())\n",
    "\n",
    "# Close the connection\n",
    "client.close()"
   ]
  },
  {
   "cell_type": "code",
   "execution_count": null,
   "metadata": {},
   "outputs": [],
   "source": [
    "from pyspark.sql import SparkSession\n",
    "import matplotlib.pyplot as plt\n",
    "\n",
    "spark = SparkSession.builder \\\n",
    "    .appName(\"Metro de Lisboa\") \\\n",
    "    .config(\"spark.mongodb.input.uri\", \"mongodb://mongodb:27017/metro_lisboa.estacoes\") \\\n",
    "    .config(\"spark.mongodb.output.uri\", \"mongodb://mongodb:27017/metro_lisboa.estacoes\") \\\n",
    "    .getOrCreate()\n",
    "\n",
    "df = spark.read.format(\"mongo\").load()\n",
    "\n",
    "stops_per_line_df = df.select(\"properties.LINHA\")\n",
    "\n",
    "stops_per_line = stops_per_line_df.groupBy(\"LINHA\").count()\n",
    "\n",
    "stops_per_line_pd = stops_per_line.toPandas()\n",
    "\n",
    "plt.figure(figsize=(10,6))\n",
    "plt.bar(stops_per_line_pd['LINHA'], stops_per_line_pd['count'], color='blue')\n",
    "plt.xlabel('Linha de Metro')\n",
    "plt.ylabel('Número de Paragens')\n",
    "plt.title('Número de Paragens por linha de Metro')\n",
    "plt.xticks(rotation=45)  \n",
    "plt.tight_layout()       \n",
    "plt.show()\n",
    "\n",
    "spark.stop()"
   ]
  }
 ],
 "metadata": {
  "kernelspec": {
   "display_name": "Python 3 (ipykernel)",
   "language": "python",
   "name": "python3"
  },
  "language_info": {
   "codemirror_mode": {
    "name": "ipython",
    "version": 3
   },
   "file_extension": ".py",
   "mimetype": "text/x-python",
   "name": "python",
   "nbconvert_exporter": "python",
   "pygments_lexer": "ipython3",
   "version": "3.11.6"
  }
 },
 "nbformat": 4,
 "nbformat_minor": 4
}
